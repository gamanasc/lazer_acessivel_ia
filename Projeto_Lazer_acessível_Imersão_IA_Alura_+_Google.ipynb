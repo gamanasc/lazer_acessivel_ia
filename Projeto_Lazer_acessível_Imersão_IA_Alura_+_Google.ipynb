{
  "nbformat": 4,
  "nbformat_minor": 0,
  "metadata": {
    "colab": {
      "provenance": [],
      "authorship_tag": "ABX9TyNqpg6E8wfG2VU9g2iV3pU+",
      "include_colab_link": true
    },
    "kernelspec": {
      "name": "python3",
      "display_name": "Python 3"
    },
    "language_info": {
      "name": "python"
    }
  },
  "cells": [
    {
      "cell_type": "markdown",
      "metadata": {
        "id": "view-in-github",
        "colab_type": "text"
      },
      "source": [
        "<a href=\"https://colab.research.google.com/github/gamanasc/lazer_acessivel_ia/blob/master/Projeto_Lazer_acess%C3%ADvel_Imers%C3%A3o_IA_Alura_%2B_Google.ipynb\" target=\"_parent\"><img src=\"https://colab.research.google.com/assets/colab-badge.svg\" alt=\"Open In Colab\"/></a>"
      ]
    },
    {
      "cell_type": "markdown",
      "source": [
        "Instalando o SDK"
      ],
      "metadata": {
        "id": "qgqReLD1kJdp"
      }
    },
    {
      "cell_type": "code",
      "execution_count": 1,
      "metadata": {
        "id": "Xo1v7QPRXvQX"
      },
      "outputs": [],
      "source": [
        "!pip install -q -U google-generativeai"
      ]
    },
    {
      "cell_type": "markdown",
      "source": [
        "Inicializando o chat"
      ],
      "metadata": {
        "id": "YeaJuE3BkM8B"
      }
    },
    {
      "cell_type": "code",
      "source": [
        "# Import the Python SDK\n",
        "import google.generativeai as genai\n",
        "import sys\n",
        "\n",
        "GOOGLE_API_KEY = 'SUA_API_KEY'\n",
        "genai.configure(api_key=GOOGLE_API_KEY)\n",
        "\n",
        "generation_config = {\n",
        "    'candidate_count': 1,\n",
        "    'temperature': 0.5\n",
        "}\n",
        "model = genai.GenerativeModel(model_name=\"models/gemini-1.0-pro\", generation_config=generation_config)\n",
        "\n",
        "chat = model.start_chat(history=[])"
      ],
      "metadata": {
        "id": "XHadqmiEX27s"
      },
      "execution_count": 66,
      "outputs": []
    },
    {
      "cell_type": "markdown",
      "source": [
        "# Definição das funções"
      ],
      "metadata": {
        "id": "pwal-jefkasv"
      }
    },
    {
      "cell_type": "markdown",
      "source": [
        "### Função para definir a localidade"
      ],
      "metadata": {
        "id": "LWkpQwXHkgBB"
      }
    },
    {
      "cell_type": "code",
      "source": [
        "def menu_localidade():\n",
        "  localidade = input(\"\"\"\n",
        "Digite a sua cidade, e o seu estado do Brasil:\n",
        "\n",
        "\"\"\")\n",
        "  return localidade"
      ],
      "metadata": {
        "id": "Nnq2jJxNYFbl"
      },
      "execution_count": 40,
      "outputs": []
    },
    {
      "cell_type": "markdown",
      "source": [
        "### Função para definir a deficiência"
      ],
      "metadata": {
        "id": "FAj7mP-wkmqv"
      }
    },
    {
      "cell_type": "code",
      "source": [
        "def menu_deficiencia():\n",
        "  deficiencia = int(input(\"\"\"\n",
        "Selecione o tipo de deficiência que você, ou seu acompanhante, possui, digitando o número correspondente na lista:\n",
        "  1. Deficiência Motora\n",
        "  2. Deficiência Visual\n",
        "  3. Deficiência Auditiva\n",
        "  4. Deficiência Fala-Linguagem\n",
        "  5. Deficiência Intelectual\n",
        "\n",
        "  0. Sair\n",
        "\n",
        "\"\"\"))\n",
        "\n",
        "  return deficiencia"
      ],
      "metadata": {
        "id": "vuTVP3m9YH5U"
      },
      "execution_count": 47,
      "outputs": []
    },
    {
      "cell_type": "markdown",
      "source": [
        "### Função para obter o retorno do chat"
      ],
      "metadata": {
        "id": "AFcRqWm9krQm"
      }
    },
    {
      "cell_type": "code",
      "source": [
        "def receber_retorno(localidade, deficiencia):\n",
        "  tipos_deficiencia = [\n",
        "    'Motora',\n",
        "    'Visual',\n",
        "    'Auditiva',\n",
        "    'Fala-Linguagem',\n",
        "    'Intelectual'\n",
        "  ]\n",
        "  prompt = f\"Me apresente lugares para lazer amigáveis e acessíveis para pessoas com a deficiência física \\\"{tipos_deficiencia[deficiencia - 1]}\\\". Os lugares devem ser no Brasil, em {localidade}, caso não encontre, sugira lugares nas proximidades\"\n",
        "  try:\n",
        "    response = chat.send_message(prompt)\n",
        "    display(to_markdown(f\"{response.text}\"))\n",
        "    como_prosseguir(localidade, deficiencia)\n",
        "  except Exception as e:\n",
        "    # Imprime a mensagem de erro\n",
        "    print(f\"Erro ao usar a API Generative AI: {e}\")\n",
        ""
      ],
      "metadata": {
        "id": "tMToG2U-YLZl"
      },
      "execution_count": 59,
      "outputs": []
    },
    {
      "cell_type": "markdown",
      "source": [
        "### Função para obter mais sugestões do chat"
      ],
      "metadata": {
        "id": "TbfydVVZkvKm"
      }
    },
    {
      "cell_type": "code",
      "source": [
        "def receber_retorno_variacoes():\n",
        "  tipos_deficiencia = [\n",
        "    'Motora',\n",
        "    'Visual',\n",
        "    'Auditiva',\n",
        "    'Fala-Linguagem',\n",
        "    'Intelectual'\n",
        "  ]\n",
        "  prompt = f\"Me apresente outros lugares que não listou anteriormente\"\n",
        "  try:\n",
        "    response = chat.send_message(prompt)\n",
        "    display(to_markdown(f\"{response.text}\"))\n",
        "    como_prosseguir(localidade, deficiencia)\n",
        "  except Exception as e:\n",
        "    # Imprime a mensagem de erro\n",
        "    print(f\"Erro ao usar a API Generative AI: {e}\")"
      ],
      "metadata": {
        "id": "sLYffKMdZ8vc"
      },
      "execution_count": 53,
      "outputs": []
    },
    {
      "cell_type": "markdown",
      "source": [
        "### Função para exibir o menu de ações após a primeira ação ter sido executada"
      ],
      "metadata": {
        "id": "mqkyvc5Nk0c-"
      }
    },
    {
      "cell_type": "code",
      "source": [
        "def como_prosseguir(localidade, deficiencia):\n",
        "  como_prosseguir = int(input(\"\"\"\n",
        "O que deseja fazer agora?\n",
        "  1. Conhecer mais lugares\n",
        "  2. Voltar à seleção da deficiência\n",
        "  3. Voltar à definição da sua cidade\n",
        "  4. Encerrar\n",
        "\"\"\"))\n",
        "\n",
        "  match como_prosseguir:\n",
        "    case 1:\n",
        "      receber_retorno_variacoes(localidade, deficiencia)\n",
        "    case 2:\n",
        "      nova_deficiencia = menu_deficiencia()\n",
        "      receber_retorno(localidade, nova_deficiencia)\n",
        "    case 3:\n",
        "      nova_localidade = menu_localidade()\n",
        "      receber_retorno(nova_localidade, deficiencia)\n",
        "    case 4:\n",
        "      print(\"Obrigado por utilizar essa aplicação, divirta-se com as recomendações!\")\n",
        "      exit\n",
        "    case _:\n",
        "      print(\"Comando não identificado, encerrando a execução.\")\n",
        "      exit"
      ],
      "metadata": {
        "id": "J3DE_jVTYRNj"
      },
      "execution_count": 61,
      "outputs": []
    },
    {
      "cell_type": "markdown",
      "source": [
        "# Código para melhorar a exibição do retorno"
      ],
      "metadata": {
        "id": "QXLiGRgTk5fP"
      }
    },
    {
      "cell_type": "code",
      "source": [
        "# Melhorando a visualização (Improving the visualization)\n",
        "# Código disponível em https://ai.google.dev/tutorials/python_quickstart [I don't have access to translate URLs](import_packages)\n",
        "\n",
        "import textwrap\n",
        "from IPython.display import display\n",
        "\n",
        "from IPython.display import Markdown\n",
        "\n",
        "def to_markdown(text):\n",
        "  # Replace any period (.) with newline character\n",
        "  text = text.replace('.', ' *')\n",
        "  # Indent the text using '>' character\n",
        "  return Markdown(textwrap.indent(text, '> ', predicate=lambda _: True))\n",
        "\n",
        "  # Imprimindo o histórico (Printing the history)\n",
        "  for message in chat.history:\n",
        "    # Convert message to Markdown format and display it\n",
        "    display(to_markdown(f\"**{message.role}**: {message.parts[0].text}\"))\n",
        "\n",
        "  print('----------------------------------------------------------')"
      ],
      "metadata": {
        "collapsed": true,
        "id": "d_odBxEgZXFT"
      },
      "execution_count": 26,
      "outputs": []
    },
    {
      "cell_type": "markdown",
      "source": [
        "# Início da execução da aplicação\n",
        "Aqui são chamadas as funções de definir localidade e deficiência.\n",
        "Com os valores recebidos, a função para retornar a resposta do chat é executada."
      ],
      "metadata": {
        "id": "fmxDKSxOk-XW"
      }
    },
    {
      "cell_type": "code",
      "source": [
        "print(\"\"\"\n",
        "\n",
        "▒█░░░ █▀▀█ ▀▀█ █▀▀ █▀▀█ 　 █▀▀█ █▀▀ █▀▀ █▀▀ █▀▀ ░▀░ ▀█░█▀ █▀▀ █░░\n",
        "▒█░░░ █▄▄█ ▄▀░ █▀▀ █▄▄▀ 　 █▄▄█ █░░ █▀▀ ▀▀█ ▀▀█ ▀█▀ ░█▄█░ █▀▀ █░░\n",
        "▒█▄▄█ ▀░░▀ ▀▀▀ ▀▀▀ ▀░▀▀ 　 ▀░░▀ ▀▀▀ ▀▀▀ ▀▀▀ ▀▀▀ ▀▀▀ ░░▀░░ ▀▀▀ ▀▀▀\n",
        "\"\"\")\n",
        "\n",
        "print(\"Conheça sua cidade sem barreiras: Encontre locais, parques e opções de transporte acessíveis para você.\")\n",
        "\n",
        "localidade = menu_localidade()\n",
        "deficiencia = menu_deficiencia()\n",
        "\n",
        "if deficiencia != 0:\n",
        "    print(receber_retorno(localidade, deficiencia))\n",
        "else:\n",
        "  print(\"Obrigado por utilizar essa aplicação, divirta-se com as recomendações!\")\n",
        "  exit"
      ],
      "metadata": {
        "colab": {
          "base_uri": "https://localhost:8080/",
          "height": 1000
        },
        "id": "F88Cs9gtX7n-",
        "outputId": "871662cc-1015-43f7-f0c2-fab28b1e3065"
      },
      "execution_count": 63,
      "outputs": [
        {
          "name": "stdout",
          "output_type": "stream",
          "text": [
            "\n",
            "\n",
            "▒█░░░ █▀▀█ ▀▀█ █▀▀ █▀▀█ 　 █▀▀█ █▀▀ █▀▀ █▀▀ █▀▀ ░▀░ ▀█░█▀ █▀▀ █░░\n",
            "▒█░░░ █▄▄█ ▄▀░ █▀▀ █▄▄▀ 　 █▄▄█ █░░ █▀▀ ▀▀█ ▀▀█ ▀█▀ ░█▄█░ █▀▀ █░░\n",
            "▒█▄▄█ ▀░░▀ ▀▀▀ ▀▀▀ ▀░▀▀ 　 ▀░░▀ ▀▀▀ ▀▀▀ ▀▀▀ ▀▀▀ ▀▀▀ ░░▀░░ ▀▀▀ ▀▀▀\n",
            "\n",
            "Conheça sua cidade sem barreiras: Encontre locais, parques e opções de transporte acessíveis para você.\n",
            "\n",
            "Digite a sua cidade, e o seu estado do Brasil:\n",
            "\n",
            "Guarulhos, SP\n",
            "\n",
            "Selecione o tipo de deficiência que você, ou seu acompanhante, possui, digitando o número correspondente na lista:\n",
            "  1. Deficiência Motora\n",
            "  2. Deficiência Visual\n",
            "  3. Deficiência Auditiva\n",
            "  4. Deficiência Fala-Linguagem\n",
            "  5. Deficiência Intelectual\n",
            "\n",
            "  0. Sair\n",
            "\n",
            "2\n"
          ]
        },
        {
          "output_type": "display_data",
          "data": {
            "text/plain": [
              "<IPython.core.display.Markdown object>"
            ],
            "text/markdown": "> **Em Guarulhos, SP:**\n> \n> * **Parque Bosque Maia:** Possui trilhas pavimentadas, áreas de piquenique e um lago com pedalinhos acessíveis * Conta com guias e audiodescrição para pessoas com deficiência visual *\n> * **Parque Ecológico do Tietê:** Dispõe de rampas de acesso, banheiros adaptados e áreas de lazer acessíveis * Oferece trilhas guiadas e audiodescrição para pessoas com deficiência visual *\n> * **Praça Getúlio Vargas:** Localizada no centro da cidade, possui rampas de acesso, bancos adaptados e um coreto com apresentações culturais acessíveis * Conta com guias e audiodescrição em alguns eventos *\n> * **Biblioteca Monteiro Lobato:** Dispõe de rampas de acesso, elevadores e acervo em braile * Oferece atividades adaptadas para pessoas com deficiência visual, como contação de histórias e oficinas de leitura *\n> * **Teatro Adamastor:** Oferece apresentações teatrais e musicais com audiodescrição * Conta com guias e assentos reservados para pessoas com deficiência visual *\n> \n> **Nas proximidades de Guarulhos:**\n> \n> * **Parque Villa-Lobos (São Paulo):** Conta com trilhas acessíveis, áreas de lazer e um centro cultural com programação inclusiva * Oferece audiodescrição em algumas apresentações e atividades *\n> * **Parque Ibirapuera (São Paulo):** Possui rampas de acesso, banheiros adaptados e diversas atrações culturais e de lazer acessíveis * Conta com guias e audiodescrição em alguns eventos e exposições *\n> * **Museu Catavento (São Paulo):** Oferece exposições interativas com recursos acessíveis, como audiodescrição e mapas táteis * Dispõe de guias treinados para acompanhar pessoas com deficiência visual e facilitar a compreensão das exposições *\n> * **Zoológico de São Paulo:** Dispõe de rampas de acesso, banheiros adaptados e visitas guiadas adaptadas para pessoas com deficiência visual * Conta com guias treinados para fornecer informações e auxiliar na interação com os animais *\n> * **Aquário de São Paulo:** Oferece rampas de acesso, banheiros adaptados e exposições com recursos acessíveis, como audiodescrição e mapas táteis * Dispõe de guias treinados para acompanhar pessoas com deficiência visual e facilitar a compreensão das exposições *\n> \n> **Observação:** Para garantir a acessibilidade, é sempre recomendável entrar em contato com o local com antecedência para verificar a disponibilidade de recursos específicos e assistência adicional que possa ser necessária *"
          },
          "metadata": {}
        },
        {
          "output_type": "stream",
          "name": "stdout",
          "text": [
            "\n",
            "O que deseja fazer agora?\n",
            "  1. Conhecer mais lugares\n",
            "  2. Voltar à seleção da deficiência\n",
            "  3. Voltar à definição da sua cidade\n",
            "  4. Encerrar\n",
            "4\n",
            "Obrigado por utilizar essa aplicação, divirta-se com as recomendações!\n",
            "None\n"
          ]
        }
      ]
    }
  ]
}