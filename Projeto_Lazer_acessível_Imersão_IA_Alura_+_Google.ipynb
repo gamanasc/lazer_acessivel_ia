{
  "nbformat": 4,
  "nbformat_minor": 0,
  "metadata": {
    "colab": {
      "provenance": [],
      "authorship_tag": "ABX9TyO54qL8RLhXiv9+c8OoiaAc",
      "include_colab_link": true
    },
    "kernelspec": {
      "name": "python3",
      "display_name": "Python 3"
    },
    "language_info": {
      "name": "python"
    }
  },
  "cells": [
    {
      "cell_type": "markdown",
      "metadata": {
        "id": "view-in-github",
        "colab_type": "text"
      },
      "source": [
        "<a href=\"https://colab.research.google.com/github/gamanasc/lazer_acessivel_ia/blob/master/Projeto_Lazer_acess%C3%ADvel_Imers%C3%A3o_IA_Alura_%2B_Google.ipynb\" target=\"_parent\"><img src=\"https://colab.research.google.com/assets/colab-badge.svg\" alt=\"Open In Colab\"/></a>"
      ]
    },
    {
      "cell_type": "markdown",
      "source": [
        "Instalando o SDK"
      ],
      "metadata": {
        "id": "qgqReLD1kJdp"
      }
    },
    {
      "cell_type": "code",
      "execution_count": 1,
      "metadata": {
        "id": "Xo1v7QPRXvQX"
      },
      "outputs": [],
      "source": [
        "!pip install -q -U google-generativeai"
      ]
    },
    {
      "cell_type": "markdown",
      "source": [
        "Inicializando o chat"
      ],
      "metadata": {
        "id": "YeaJuE3BkM8B"
      }
    },
    {
      "cell_type": "code",
      "source": [
        "# Import the Python SDK\n",
        "import google.generativeai as genai\n",
        "import sys\n",
        "\n",
        "GOOGLE_API_KEY = 'SUA_API_KEY'\n",
        "genai.configure(api_key=GOOGLE_API_KEY)\n",
        "\n",
        "generation_config = {\n",
        "    'candidate_count': 1,\n",
        "    'temperature': 0.5\n",
        "}\n",
        "model = genai.GenerativeModel(model_name=\"models/gemini-1.0-pro\", generation_config=generation_config)\n",
        "\n",
        "chat = model.start_chat(history=[])"
      ],
      "metadata": {
        "id": "XHadqmiEX27s"
      },
      "execution_count": 67,
      "outputs": []
    },
    {
      "cell_type": "markdown",
      "source": [
        "# Definição das funções"
      ],
      "metadata": {
        "id": "pwal-jefkasv"
      }
    },
    {
      "cell_type": "markdown",
      "source": [
        "### Função para definir a localidade"
      ],
      "metadata": {
        "id": "LWkpQwXHkgBB"
      }
    },
    {
      "cell_type": "code",
      "source": [
        "def menu_localidade():\n",
        "  localidade = input(\"\"\"\n",
        "Digite a sua cidade, e o seu estado do Brasil:\n",
        "\n",
        "\"\"\")\n",
        "  return localidade"
      ],
      "metadata": {
        "id": "Nnq2jJxNYFbl"
      },
      "execution_count": 40,
      "outputs": []
    },
    {
      "cell_type": "markdown",
      "source": [
        "### Função para definir a deficiência"
      ],
      "metadata": {
        "id": "FAj7mP-wkmqv"
      }
    },
    {
      "cell_type": "code",
      "source": [
        "def menu_deficiencia():\n",
        "  deficiencia = int(input(\"\"\"\n",
        "Selecione o tipo de deficiência que você, ou seu acompanhante, possui, digitando o número correspondente na lista:\n",
        "  1. Deficiência Motora\n",
        "  2. Deficiência Visual\n",
        "  3. Deficiência Auditiva\n",
        "  4. Deficiência Fala-Linguagem\n",
        "  5. Deficiência Intelectual\n",
        "\n",
        "  0. Sair\n",
        "\n",
        "\"\"\"))\n",
        "\n",
        "  return deficiencia"
      ],
      "metadata": {
        "id": "vuTVP3m9YH5U"
      },
      "execution_count": 47,
      "outputs": []
    },
    {
      "cell_type": "markdown",
      "source": [
        "### Função para obter o retorno do chat"
      ],
      "metadata": {
        "id": "AFcRqWm9krQm"
      }
    },
    {
      "cell_type": "code",
      "source": [
        "def receber_retorno(localidade, deficiencia):\n",
        "  tipos_deficiencia = [\n",
        "    'Motora',\n",
        "    'Visual',\n",
        "    'Auditiva',\n",
        "    'Fala-Linguagem',\n",
        "    'Intelectual'\n",
        "  ]\n",
        "  prompt = f\"Me apresente lugares para lazer amigáveis e acessíveis para pessoas com a deficiência física \\\"{tipos_deficiencia[deficiencia - 1]}\\\". Os lugares devem ser no Brasil, em {localidade}, caso não encontre, sugira lugares nas proximidades\"\n",
        "  try:\n",
        "    response = chat.send_message(prompt)\n",
        "    display(to_markdown(f\"{response.text}\"))\n",
        "    como_prosseguir(localidade, deficiencia)\n",
        "  except Exception as e:\n",
        "    # Imprime a mensagem de erro\n",
        "    print(f\"Erro ao usar a API Generative AI: {e}\")\n",
        ""
      ],
      "metadata": {
        "id": "tMToG2U-YLZl"
      },
      "execution_count": 59,
      "outputs": []
    },
    {
      "cell_type": "markdown",
      "source": [
        "### Função para obter mais sugestões do chat"
      ],
      "metadata": {
        "id": "TbfydVVZkvKm"
      }
    },
    {
      "cell_type": "code",
      "source": [
        "def receber_retorno_variacoes():\n",
        "  tipos_deficiencia = [\n",
        "    'Motora',\n",
        "    'Visual',\n",
        "    'Auditiva',\n",
        "    'Fala-Linguagem',\n",
        "    'Intelectual'\n",
        "  ]\n",
        "  prompt = f\"Me apresente outros lugares que não listou anteriormente\"\n",
        "  try:\n",
        "    response = chat.send_message(prompt)\n",
        "    display(to_markdown(f\"{response.text}\"))\n",
        "    como_prosseguir(localidade, deficiencia)\n",
        "  except Exception as e:\n",
        "    # Imprime a mensagem de erro\n",
        "    print(f\"Erro ao usar a API Generative AI: {e}\")"
      ],
      "metadata": {
        "id": "sLYffKMdZ8vc"
      },
      "execution_count": 53,
      "outputs": []
    },
    {
      "cell_type": "markdown",
      "source": [
        "### Função para exibir o menu de ações após a primeira ação ter sido executada"
      ],
      "metadata": {
        "id": "mqkyvc5Nk0c-"
      }
    },
    {
      "cell_type": "code",
      "source": [
        "def como_prosseguir(localidade, deficiencia):\n",
        "  como_prosseguir = int(input(\"\"\"\n",
        "O que deseja fazer agora?\n",
        "  1. Conhecer mais lugares\n",
        "  2. Voltar à seleção da deficiência\n",
        "  3. Voltar à definição da sua cidade\n",
        "  4. Encerrar\n",
        "\"\"\"))\n",
        "\n",
        "  match como_prosseguir:\n",
        "    case 1:\n",
        "      receber_retorno_variacoes()\n",
        "    case 2:\n",
        "      nova_deficiencia = menu_deficiencia()\n",
        "      receber_retorno(localidade, nova_deficiencia)\n",
        "    case 3:\n",
        "      nova_localidade = menu_localidade()\n",
        "      receber_retorno(nova_localidade, deficiencia)\n",
        "    case 4:\n",
        "      print(\"Obrigado por utilizar essa aplicação, divirta-se com as recomendações!\")\n",
        "      exit\n",
        "    case _:\n",
        "      print(\"Comando não identificado, encerrando a execução.\")\n",
        "      exit"
      ],
      "metadata": {
        "id": "J3DE_jVTYRNj"
      },
      "execution_count": 70,
      "outputs": []
    },
    {
      "cell_type": "markdown",
      "source": [
        "# Código para melhorar a exibição do retorno"
      ],
      "metadata": {
        "id": "QXLiGRgTk5fP"
      }
    },
    {
      "cell_type": "code",
      "source": [
        "# Melhorando a visualização (Improving the visualization)\n",
        "# Código disponível em https://ai.google.dev/tutorials/python_quickstart [I don't have access to translate URLs](import_packages)\n",
        "\n",
        "import textwrap\n",
        "from IPython.display import display\n",
        "\n",
        "from IPython.display import Markdown\n",
        "\n",
        "def to_markdown(text):\n",
        "  # Replace any period (.) with newline character\n",
        "  text = text.replace('.', ' *')\n",
        "  # Indent the text using '>' character\n",
        "  return Markdown(textwrap.indent(text, '> ', predicate=lambda _: True))\n",
        "\n",
        "  # Imprimindo o histórico (Printing the history)\n",
        "  for message in chat.history:\n",
        "    # Convert message to Markdown format and display it\n",
        "    display(to_markdown(f\"**{message.role}**: {message.parts[0].text}\"))\n",
        "\n",
        "  print('----------------------------------------------------------')"
      ],
      "metadata": {
        "collapsed": true,
        "id": "d_odBxEgZXFT"
      },
      "execution_count": 26,
      "outputs": []
    },
    {
      "cell_type": "markdown",
      "source": [
        "# Início da execução da aplicação\n",
        "Aqui são chamadas as funções de definir localidade e deficiência.\n",
        "Com os valores recebidos, a função para retornar a resposta do chat é executada."
      ],
      "metadata": {
        "id": "fmxDKSxOk-XW"
      }
    },
    {
      "cell_type": "code",
      "source": [
        "print(\"\"\"\n",
        "\n",
        "▒█░░░ █▀▀█ ▀▀█ █▀▀ █▀▀█ 　 █▀▀█ █▀▀ █▀▀ █▀▀ █▀▀ ░▀░ ▀█░█▀ █▀▀ █░░\n",
        "▒█░░░ █▄▄█ ▄▀░ █▀▀ █▄▄▀ 　 █▄▄█ █░░ █▀▀ ▀▀█ ▀▀█ ▀█▀ ░█▄█░ █▀▀ █░░\n",
        "▒█▄▄█ ▀░░▀ ▀▀▀ ▀▀▀ ▀░▀▀ 　 ▀░░▀ ▀▀▀ ▀▀▀ ▀▀▀ ▀▀▀ ▀▀▀ ░░▀░░ ▀▀▀ ▀▀▀\n",
        "\"\"\")\n",
        "\n",
        "print(\"Conheça sua cidade sem barreiras: Encontre locais, parques e opções de transporte acessíveis para você.\")\n",
        "\n",
        "localidade = menu_localidade()\n",
        "deficiencia = menu_deficiencia()\n",
        "\n",
        "if deficiencia != 0:\n",
        "    print(receber_retorno(localidade, deficiencia))\n",
        "else:\n",
        "  print(\"Obrigado por utilizar essa aplicação, divirta-se com as recomendações!\")\n",
        "  exit"
      ],
      "metadata": {
        "colab": {
          "base_uri": "https://localhost:8080/",
          "height": 1000
        },
        "id": "F88Cs9gtX7n-",
        "outputId": "6cb2b741-61dd-495b-e3ef-2324cd225430"
      },
      "execution_count": 71,
      "outputs": [
        {
          "name": "stdout",
          "output_type": "stream",
          "text": [
            "\n",
            "\n",
            "▒█░░░ █▀▀█ ▀▀█ █▀▀ █▀▀█ 　 █▀▀█ █▀▀ █▀▀ █▀▀ █▀▀ ░▀░ ▀█░█▀ █▀▀ █░░\n",
            "▒█░░░ █▄▄█ ▄▀░ █▀▀ █▄▄▀ 　 █▄▄█ █░░ █▀▀ ▀▀█ ▀▀█ ▀█▀ ░█▄█░ █▀▀ █░░\n",
            "▒█▄▄█ ▀░░▀ ▀▀▀ ▀▀▀ ▀░▀▀ 　 ▀░░▀ ▀▀▀ ▀▀▀ ▀▀▀ ▀▀▀ ▀▀▀ ░░▀░░ ▀▀▀ ▀▀▀\n",
            "\n",
            "Conheça sua cidade sem barreiras: Encontre locais, parques e opções de transporte acessíveis para você.\n",
            "\n",
            "Digite a sua cidade, e o seu estado do Brasil:\n",
            "\n",
            "Salvador, BA\n",
            "\n",
            "Selecione o tipo de deficiência que você, ou seu acompanhante, possui, digitando o número correspondente na lista:\n",
            "  1. Deficiência Motora\n",
            "  2. Deficiência Visual\n",
            "  3. Deficiência Auditiva\n",
            "  4. Deficiência Fala-Linguagem\n",
            "  5. Deficiência Intelectual\n",
            "\n",
            "  0. Sair\n",
            "\n",
            "2\n"
          ]
        },
        {
          "output_type": "display_data",
          "data": {
            "text/plain": [
              "<IPython.core.display.Markdown object>"
            ],
            "text/markdown": "> **Em Salvador, Bahia:**\n> \n> * **Parque Costa Azul:** Parque com áreas verdes, playground acessível e rampa de acesso à praia *\n> * **Museu de Arte Moderna da Bahia (MAM):** Museu com obras de arte táteis e audiodescrições para visitantes com deficiência visual *\n> * **Praia do Porto da Barra:** Praia com rampas de acesso e cadeiras anfíbias para banho de mar *\n> * **Shopping Barra:** Centro comercial com rampas de acesso, elevadores e banheiros adaptados *\n> * **Museu da Cidade:** Museu com exposições interativas e audiodescrições para visitantes com deficiência visual *\n> \n> **Nas proximidades de Salvador, Bahia:**\n> \n> * **Praia do Forte:** Praia com rampa de acesso e cadeiras anfíbias para banho de mar *\n> * **Projeto Tamar:** Centro de conservação de tartarugas marinhas com trilhas acessíveis e audiodescrições *\n> * **Parque Nacional da Chapada Diamantina:** Parque nacional com trilhas adaptadas e guias especializados para visitantes com deficiência visual *\n> * **Museu do Recôncavo:** Museu em Santo Amaro da Purificação com exposições táteis e audiodescrições *\n> * **Centro Histórico de Cachoeira:** Cidade histórica com ruas pavimentadas e acesso facilitado para pessoas com deficiência visual *\n> \n> **Dicas adicionais:**\n> \n> * Entre em contato com os locais com antecedência para confirmar a acessibilidade e solicitar quaisquer acomodações necessárias *\n> * Leve um acompanhante ou guia para assistência, se necessário *\n> * Use aplicativos de navegação acessíveis, como o Google Maps com TalkBack ou VoiceOver *\n> * Leve um bastão branco ou bengala para orientação *\n> * Esteja ciente de quaisquer obstáculos ou perigos potenciais *\n> \n> **Observação:** Infelizmente, as opções de lazer acessíveis para pessoas com deficiência visual em Salvador e nas proximidades são limitadas * Esperamos que essa situação melhore no futuro para que todos possam desfrutar de atividades de lazer de forma igualitária *"
          },
          "metadata": {}
        },
        {
          "name": "stdout",
          "output_type": "stream",
          "text": [
            "\n",
            "O que deseja fazer agora?\n",
            "  1. Conhecer mais lugares\n",
            "  2. Voltar à seleção da deficiência\n",
            "  3. Voltar à definição da sua cidade\n",
            "  4. Encerrar\n",
            "1\n"
          ]
        },
        {
          "output_type": "display_data",
          "data": {
            "text/plain": [
              "<IPython.core.display.Markdown object>"
            ],
            "text/markdown": "> **Em Salvador, Bahia:**\n> \n> * **Farol da Barra:** Farol histórico com rampa de acesso e vista panorâmica da cidade *\n> * **Elevador Lacerda:** Elevador público que conecta a Cidade Alta e a Cidade Baixa, com acesso adaptado para pessoas com deficiência visual *\n> * **Mercado Modelo:** Mercado tradicional com rampas de acesso e banheiros adaptados *\n> * **Pelourinho:** Centro histórico com ruas pavimentadas e acesso facilitado para pessoas com deficiência visual *\n> \n> **Nas proximidades de Salvador, Bahia:**\n> \n> * **Praia de Imbassaí:** Praia com rampa de acesso e cadeiras anfíbias para banho de mar *\n> * **Costa do Sauípe:** Complexo turístico com praias acessíveis, piscinas e outras atividades de lazer *\n> * **Ilha de Itaparica:** Ilha com praias, trilhas ecológicas e acesso por ferry adaptado *\n> * **Cachoeira do Sossego:** Cachoeira com trilha adaptada e acesso facilitado para pessoas com deficiência visual *\n> \n> **Dicas adicionais:**\n> \n> * Entre em contato com os locais com antecedência para confirmar a acessibilidade e solicitar quaisquer acomodações necessárias *\n> * Leve um acompanhante ou guia para assistência, se necessário *\n> * Use aplicativos de navegação acessíveis, como o Google Maps com TalkBack ou VoiceOver *\n> * Leve um bastão branco ou bengala para orientação *\n> * Esteja ciente de quaisquer obstáculos ou perigos potenciais *\n> \n> Esperamos que essas sugestões adicionais ajudem você a encontrar lugares de lazer acessíveis e agradáveis em Salvador e nas proximidades *"
          },
          "metadata": {}
        },
        {
          "name": "stdout",
          "output_type": "stream",
          "text": [
            "\n",
            "O que deseja fazer agora?\n",
            "  1. Conhecer mais lugares\n",
            "  2. Voltar à seleção da deficiência\n",
            "  3. Voltar à definição da sua cidade\n",
            "  4. Encerrar\n",
            "2\n",
            "\n",
            "Selecione o tipo de deficiência que você, ou seu acompanhante, possui, digitando o número correspondente na lista:\n",
            "  1. Deficiência Motora\n",
            "  2. Deficiência Visual\n",
            "  3. Deficiência Auditiva\n",
            "  4. Deficiência Fala-Linguagem\n",
            "  5. Deficiência Intelectual\n",
            "\n",
            "  0. Sair\n",
            "\n",
            "4\n"
          ]
        },
        {
          "output_type": "display_data",
          "data": {
            "text/plain": [
              "<IPython.core.display.Markdown object>"
            ],
            "text/markdown": "> **Em Salvador, Bahia:**\n> \n> * **Museu de Arte Moderna da Bahia (MAM):** Museu com obras de arte táteis e audiodescrições para visitantes com deficiência visual e auditiva *\n> * **Praia do Porto da Barra:** Praia com rampas de acesso e cadeiras anfíbias para banho de mar, além de quiosques com cardápios em braille *\n> * **Shopping Barra:** Centro comercial com rampas de acesso, elevadores e banheiros adaptados, além de sinalização em braille e intérpretes de libras disponíveis mediante solicitação *\n> * **Teatro Castro Alves:** Teatro com rampas de acesso, assentos reservados para pessoas com deficiência e intérpretes de libras em alguns espetáculos *\n> * **Parque Costa Azul:** Parque com áreas verdes, playground acessível e rampa de acesso à praia, além de placas informativas em braille *\n> \n> **Nas proximidades de Salvador, Bahia:**\n> \n> * **Praia do Forte:** Praia com rampa de acesso e cadeiras anfíbias para banho de mar, além de quiosques com cardápios em braille *\n> * **Projeto Tamar:** Centro de conservação de tartarugas marinhas com trilhas acessíveis e audiodescrições, além de intérpretes de libras disponíveis mediante solicitação *\n> * **Parque Nacional da Chapada Diamantina:** Parque nacional com trilhas adaptadas e guias especializados para visitantes com deficiência visual e auditiva *\n> * **Museu do Recôncavo:** Museu em Santo Amaro da Purificação com exposições táteis e audiodescrições, além de intérpretes de libras disponíveis mediante solicitação *\n> * **Centro Histórico de Cachoeira:** Cidade histórica com ruas pavimentadas e acesso facilitado para pessoas com deficiência visual e auditiva, além de placas informativas em braille *\n> \n> **Dicas adicionais:**\n> \n> * Entre em contato com os locais com antecedência para confirmar a acessibilidade e solicitar quaisquer acomodações necessárias, como intérpretes de libras ou cardápios em braille *\n> * Leve um acompanhante ou guia para assistência, se necessário *\n> * Use aplicativos de comunicação acessíveis, como o WhatsApp com recursos de mensagens de texto e videochamadas *\n> * Esteja ciente de quaisquer obstáculos ou perigos potenciais *\n> \n> Esperamos que essas sugestões ajudem você a encontrar lugares de lazer acessíveis e agradáveis em Salvador e nas proximidades para pessoas com deficiência de fala e linguagem *"
          },
          "metadata": {}
        },
        {
          "name": "stdout",
          "output_type": "stream",
          "text": [
            "\n",
            "O que deseja fazer agora?\n",
            "  1. Conhecer mais lugares\n",
            "  2. Voltar à seleção da deficiência\n",
            "  3. Voltar à definição da sua cidade\n",
            "  4. Encerrar\n",
            "3\n",
            "\n",
            "Digite a sua cidade, e o seu estado do Brasil:\n",
            "\n",
            "Guarulhos, SP\n"
          ]
        },
        {
          "output_type": "display_data",
          "data": {
            "text/plain": [
              "<IPython.core.display.Markdown object>"
            ],
            "text/markdown": "> **Em Guarulhos, São Paulo:**\n> \n> * **Parque Ecológico do Tietê:** Parque com trilhas acessíveis, playground adaptado e quiosques com cardápios em braille *\n> * **Shopping Internacional de Guarulhos:** Centro comercial com rampas de acesso, elevadores e banheiros adaptados, além de sinalização em braille e intérpretes de libras disponíveis mediante solicitação *\n> * **Teatro Adamastor:** Teatro com rampas de acesso, assentos reservados para pessoas com deficiência e intérpretes de libras em alguns espetáculos *\n> * **Biblioteca Monteiro Lobato:** Biblioteca com acervo em braille e audiolivros, além de intérpretes de libras disponíveis mediante solicitação *\n> * **Parque Chico Mendes:** Parque com áreas verdes, playground acessível e rampa de acesso ao lago, além de placas informativas em braille *\n> \n> **Nas proximidades de Guarulhos, São Paulo:**\n> \n> * **Parque Estadual da Cantareira:** Parque com trilhas adaptadas e guias especializados para visitantes com deficiência visual e auditiva *\n> * **Museu do Índio:** Museu com exposições táteis e audiodescrições, além de intérpretes de libras disponíveis mediante solicitação *\n> * **Centro Histórico de São Paulo:** Centro histórico com ruas pavimentadas e acesso facilitado para pessoas com deficiência visual e auditiva, além de placas informativas em braille *\n> * **Aquário de São Paulo:** Aquário com rampas de acesso, tanques táteis e audiodescrições, além de intérpretes de libras disponíveis mediante solicitação *\n> * **Parque Ibirapuera:** Parque com áreas verdes, playground acessível e rampa de acesso ao lago, além de placas informativas em braille *\n> \n> **Dicas adicionais:**\n> \n> * Entre em contato com os locais com antecedência para confirmar a acessibilidade e solicitar quaisquer acomodações necessárias, como intérpretes de libras ou cardápios em braille *\n> * Leve um acompanhante ou guia para assistência, se necessário *\n> * Use aplicativos de comunicação acessíveis, como o WhatsApp com recursos de mensagens de texto e videochamadas *\n> * Esteja ciente de quaisquer obstáculos ou perigos potenciais *\n> \n> Esperamos que essas sugestões ajudem você a encontrar lugares de lazer acessíveis e agradáveis em Guarulhos e nas proximidades para pessoas com deficiência de fala e linguagem *"
          },
          "metadata": {}
        },
        {
          "output_type": "stream",
          "name": "stdout",
          "text": [
            "\n",
            "O que deseja fazer agora?\n",
            "  1. Conhecer mais lugares\n",
            "  2. Voltar à seleção da deficiência\n",
            "  3. Voltar à definição da sua cidade\n",
            "  4. Encerrar\n",
            "4\n",
            "Obrigado por utilizar essa aplicação, divirta-se com as recomendações!\n",
            "None\n"
          ]
        }
      ]
    }
  ]
}